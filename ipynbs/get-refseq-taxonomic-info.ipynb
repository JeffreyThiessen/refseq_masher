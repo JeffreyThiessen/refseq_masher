{
 "cells": [
  {
   "cell_type": "markdown",
   "metadata": {},
   "source": [
    "# Retrieve NCBI Taxonomy Info For RefSeq Genomes\n",
    "\n",
    "In `../refseq_masher/data/RefSeqSketches.msh`, each sketch ID has an NCBI Taxonomy UID as the 3rd element if you were to split the ID on `-` (dashes):"
   ]
  },
  {
   "cell_type": "code",
   "execution_count": 2,
   "metadata": {},
   "outputs": [
    {
     "name": "stdout",
     "output_type": "stream",
     "text": [
      "#Hashes\tLength\tID\tComment\r\n",
      "400\t2679921514\t./rcn/refseq-AC-10090-PRJNA16113-SAMN03004379-GCF_000002165.2-.-Mus_musculus.fna\t\r\n",
      "400\t16300\t./rcn/refseq-AC-10116-PRJNA12455-.-.-.-Rattus_norvegicus.fna\t\r\n",
      "400\t2559974438\t./rcn/refseq-AC-10116-PRJNA16219-.-GCF_000002265.2-.-Rattus_norvegicus.fna\t\r\n",
      "400\t30536\t./rcn/refseq-AC-10512-PRJNA15101-.-.-.-Canine_adenovirus_1.fna\t\r\n",
      "400\t31323\t./rcn/refseq-AC-10514-PRJNA15102-.-.-.-Canine_adenovirus_2.fna\t\r\n",
      "400\t35937\t./rcn/refseq-AC-10515-PRJNA15106-.-.-.-Human_adenovirus_2.fna\t\r\n",
      "400\t35514\t./rcn/refseq-AC-10519-PRJNA15114-.-.-.-Human_adenovirus_7.fna\t\r\n",
      "400\t34794\t./rcn/refseq-AC-10522-PRJNA15115-.-.-.-Human_adenovirus_35.fna\t\r\n",
      "400\t36001\t./rcn/refseq-AC-10533-PRJNA15113-.-.-.-Human_adenovirus_1.fna\t\r\n"
     ]
    }
   ],
   "source": [
    "!mash info -t ../refseq_masher/data/RefSeqSketches.msh | head "
   ]
  },
  {
   "cell_type": "markdown",
   "metadata": {},
   "source": [
    "Output tabular Mash info output to a file"
   ]
  },
  {
   "cell_type": "code",
   "execution_count": 3,
   "metadata": {},
   "outputs": [],
   "source": [
    "!mash info -t ../refseq_masher/data/RefSeqSketches.msh > RefSeqSketches.msh-info.tab"
   ]
  },
  {
   "cell_type": "markdown",
   "metadata": {},
   "source": [
    "Read file into Pandas DataFrame"
   ]
  },
  {
   "cell_type": "code",
   "execution_count": 5,
   "metadata": {},
   "outputs": [],
   "source": [
    "import pandas as pd"
   ]
  },
  {
   "cell_type": "code",
   "execution_count": 6,
   "metadata": {},
   "outputs": [],
   "source": [
    "df_mash_info = pd.read_table('RefSeqSketches.msh-info.tab')"
   ]
  },
  {
   "cell_type": "code",
   "execution_count": 7,
   "metadata": {},
   "outputs": [
    {
     "data": {
      "text/html": [
       "<div>\n",
       "<style scoped>\n",
       "    .dataframe tbody tr th:only-of-type {\n",
       "        vertical-align: middle;\n",
       "    }\n",
       "\n",
       "    .dataframe tbody tr th {\n",
       "        vertical-align: top;\n",
       "    }\n",
       "\n",
       "    .dataframe thead th {\n",
       "        text-align: right;\n",
       "    }\n",
       "</style>\n",
       "<table border=\"1\" class=\"dataframe\">\n",
       "  <thead>\n",
       "    <tr style=\"text-align: right;\">\n",
       "      <th></th>\n",
       "      <th>#Hashes</th>\n",
       "      <th>Length</th>\n",
       "      <th>ID</th>\n",
       "      <th>Comment</th>\n",
       "    </tr>\n",
       "  </thead>\n",
       "  <tbody>\n",
       "    <tr>\n",
       "      <th>0</th>\n",
       "      <td>400</td>\n",
       "      <td>2679921514</td>\n",
       "      <td>./rcn/refseq-AC-10090-PRJNA16113-SAMN03004379-...</td>\n",
       "      <td>NaN</td>\n",
       "    </tr>\n",
       "    <tr>\n",
       "      <th>1</th>\n",
       "      <td>400</td>\n",
       "      <td>16300</td>\n",
       "      <td>./rcn/refseq-AC-10116-PRJNA12455-.-.-.-Rattus_...</td>\n",
       "      <td>NaN</td>\n",
       "    </tr>\n",
       "    <tr>\n",
       "      <th>2</th>\n",
       "      <td>400</td>\n",
       "      <td>2559974438</td>\n",
       "      <td>./rcn/refseq-AC-10116-PRJNA16219-.-GCF_0000022...</td>\n",
       "      <td>NaN</td>\n",
       "    </tr>\n",
       "    <tr>\n",
       "      <th>3</th>\n",
       "      <td>400</td>\n",
       "      <td>30536</td>\n",
       "      <td>./rcn/refseq-AC-10512-PRJNA15101-.-.-.-Canine_...</td>\n",
       "      <td>NaN</td>\n",
       "    </tr>\n",
       "    <tr>\n",
       "      <th>4</th>\n",
       "      <td>400</td>\n",
       "      <td>31323</td>\n",
       "      <td>./rcn/refseq-AC-10514-PRJNA15102-.-.-.-Canine_...</td>\n",
       "      <td>NaN</td>\n",
       "    </tr>\n",
       "  </tbody>\n",
       "</table>\n",
       "</div>"
      ],
      "text/plain": [
       "   #Hashes      Length                                                 ID  \\\n",
       "0      400  2679921514  ./rcn/refseq-AC-10090-PRJNA16113-SAMN03004379-...   \n",
       "1      400       16300  ./rcn/refseq-AC-10116-PRJNA12455-.-.-.-Rattus_...   \n",
       "2      400  2559974438  ./rcn/refseq-AC-10116-PRJNA16219-.-GCF_0000022...   \n",
       "3      400       30536  ./rcn/refseq-AC-10512-PRJNA15101-.-.-.-Canine_...   \n",
       "4      400       31323  ./rcn/refseq-AC-10514-PRJNA15102-.-.-.-Canine_...   \n",
       "\n",
       "   Comment  \n",
       "0      NaN  \n",
       "1      NaN  \n",
       "2      NaN  \n",
       "3      NaN  \n",
       "4      NaN  "
      ]
     },
     "execution_count": 7,
     "metadata": {},
     "output_type": "execute_result"
    }
   ],
   "source": [
    "df_mash_info.head()"
   ]
  },
  {
   "cell_type": "markdown",
   "metadata": {},
   "source": [
    "Split the Mash info IDs on `-` (dashes)"
   ]
  },
  {
   "cell_type": "code",
   "execution_count": 9,
   "metadata": {},
   "outputs": [],
   "source": [
    "import re"
   ]
  },
  {
   "cell_type": "code",
   "execution_count": 10,
   "metadata": {},
   "outputs": [],
   "source": [
    "ids = []\n",
    "for mash_id in df_mash_info['ID']:\n",
    "    r = re.search(r'\\./rcn/(.+)', mash_id)\n",
    "    if r:\n",
    "        sp = r.group(1).split('-')\n",
    "        ids.append(sp)"
   ]
  },
  {
   "cell_type": "markdown",
   "metadata": {},
   "source": [
    "Mash info IDs into a Pandas DataFrame"
   ]
  },
  {
   "cell_type": "code",
   "execution_count": 13,
   "metadata": {},
   "outputs": [],
   "source": [
    "df_split_ids = pd.DataFrame(ids)"
   ]
  },
  {
   "cell_type": "code",
   "execution_count": 14,
   "metadata": {},
   "outputs": [
    {
     "data": {
      "text/html": [
       "<div>\n",
       "<style scoped>\n",
       "    .dataframe tbody tr th:only-of-type {\n",
       "        vertical-align: middle;\n",
       "    }\n",
       "\n",
       "    .dataframe tbody tr th {\n",
       "        vertical-align: top;\n",
       "    }\n",
       "\n",
       "    .dataframe thead th {\n",
       "        text-align: right;\n",
       "    }\n",
       "</style>\n",
       "<table border=\"1\" class=\"dataframe\">\n",
       "  <thead>\n",
       "    <tr style=\"text-align: right;\">\n",
       "      <th></th>\n",
       "      <th>0</th>\n",
       "      <th>1</th>\n",
       "      <th>2</th>\n",
       "      <th>3</th>\n",
       "      <th>4</th>\n",
       "      <th>5</th>\n",
       "      <th>6</th>\n",
       "      <th>7</th>\n",
       "    </tr>\n",
       "  </thead>\n",
       "  <tbody>\n",
       "    <tr>\n",
       "      <th>0</th>\n",
       "      <td>refseq</td>\n",
       "      <td>AC</td>\n",
       "      <td>10090</td>\n",
       "      <td>PRJNA16113</td>\n",
       "      <td>SAMN03004379</td>\n",
       "      <td>GCF_000002165.2</td>\n",
       "      <td>.</td>\n",
       "      <td>Mus_musculus.fna</td>\n",
       "    </tr>\n",
       "    <tr>\n",
       "      <th>1</th>\n",
       "      <td>refseq</td>\n",
       "      <td>AC</td>\n",
       "      <td>10116</td>\n",
       "      <td>PRJNA12455</td>\n",
       "      <td>.</td>\n",
       "      <td>.</td>\n",
       "      <td>.</td>\n",
       "      <td>Rattus_norvegicus.fna</td>\n",
       "    </tr>\n",
       "    <tr>\n",
       "      <th>2</th>\n",
       "      <td>refseq</td>\n",
       "      <td>AC</td>\n",
       "      <td>10116</td>\n",
       "      <td>PRJNA16219</td>\n",
       "      <td>.</td>\n",
       "      <td>GCF_000002265.2</td>\n",
       "      <td>.</td>\n",
       "      <td>Rattus_norvegicus.fna</td>\n",
       "    </tr>\n",
       "    <tr>\n",
       "      <th>3</th>\n",
       "      <td>refseq</td>\n",
       "      <td>AC</td>\n",
       "      <td>10512</td>\n",
       "      <td>PRJNA15101</td>\n",
       "      <td>.</td>\n",
       "      <td>.</td>\n",
       "      <td>.</td>\n",
       "      <td>Canine_adenovirus_1.fna</td>\n",
       "    </tr>\n",
       "    <tr>\n",
       "      <th>4</th>\n",
       "      <td>refseq</td>\n",
       "      <td>AC</td>\n",
       "      <td>10514</td>\n",
       "      <td>PRJNA15102</td>\n",
       "      <td>.</td>\n",
       "      <td>.</td>\n",
       "      <td>.</td>\n",
       "      <td>Canine_adenovirus_2.fna</td>\n",
       "    </tr>\n",
       "  </tbody>\n",
       "</table>\n",
       "</div>"
      ],
      "text/plain": [
       "        0   1      2           3             4                5  6  \\\n",
       "0  refseq  AC  10090  PRJNA16113  SAMN03004379  GCF_000002165.2  .   \n",
       "1  refseq  AC  10116  PRJNA12455             .                .  .   \n",
       "2  refseq  AC  10116  PRJNA16219             .  GCF_000002265.2  .   \n",
       "3  refseq  AC  10512  PRJNA15101             .                .  .   \n",
       "4  refseq  AC  10514  PRJNA15102             .                .  .   \n",
       "\n",
       "                         7  \n",
       "0         Mus_musculus.fna  \n",
       "1    Rattus_norvegicus.fna  \n",
       "2    Rattus_norvegicus.fna  \n",
       "3  Canine_adenovirus_1.fna  \n",
       "4  Canine_adenovirus_2.fna  "
      ]
     },
     "execution_count": 14,
     "metadata": {},
     "output_type": "execute_result"
    }
   ],
   "source": [
    "df_split_ids.head()"
   ]
  },
  {
   "cell_type": "markdown",
   "metadata": {},
   "source": [
    "Assign more meaningful column names"
   ]
  },
  {
   "cell_type": "code",
   "execution_count": 16,
   "metadata": {},
   "outputs": [],
   "source": [
    "columns = \"\"\"\n",
    "0\n",
    "prefix\n",
    "taxid\n",
    "bioproject\n",
    "biosample\n",
    "assembly_accession\n",
    "plasmid\n",
    "fna_filename\n",
    "\"\"\".strip().split('\\n')"
   ]
  },
  {
   "cell_type": "code",
   "execution_count": 17,
   "metadata": {},
   "outputs": [],
   "source": [
    "df_split_ids.columns = columns"
   ]
  },
  {
   "cell_type": "code",
   "execution_count": 18,
   "metadata": {},
   "outputs": [
    {
     "data": {
      "text/html": [
       "<div>\n",
       "<style scoped>\n",
       "    .dataframe tbody tr th:only-of-type {\n",
       "        vertical-align: middle;\n",
       "    }\n",
       "\n",
       "    .dataframe tbody tr th {\n",
       "        vertical-align: top;\n",
       "    }\n",
       "\n",
       "    .dataframe thead th {\n",
       "        text-align: right;\n",
       "    }\n",
       "</style>\n",
       "<table border=\"1\" class=\"dataframe\">\n",
       "  <thead>\n",
       "    <tr style=\"text-align: right;\">\n",
       "      <th></th>\n",
       "      <th>0</th>\n",
       "      <th>prefix</th>\n",
       "      <th>taxid</th>\n",
       "      <th>bioproject</th>\n",
       "      <th>biosample</th>\n",
       "      <th>assembly_accession</th>\n",
       "      <th>plasmid</th>\n",
       "      <th>fna_filename</th>\n",
       "    </tr>\n",
       "  </thead>\n",
       "  <tbody>\n",
       "    <tr>\n",
       "      <th>0</th>\n",
       "      <td>refseq</td>\n",
       "      <td>AC</td>\n",
       "      <td>10090</td>\n",
       "      <td>PRJNA16113</td>\n",
       "      <td>SAMN03004379</td>\n",
       "      <td>GCF_000002165.2</td>\n",
       "      <td>.</td>\n",
       "      <td>Mus_musculus.fna</td>\n",
       "    </tr>\n",
       "    <tr>\n",
       "      <th>1</th>\n",
       "      <td>refseq</td>\n",
       "      <td>AC</td>\n",
       "      <td>10116</td>\n",
       "      <td>PRJNA12455</td>\n",
       "      <td>.</td>\n",
       "      <td>.</td>\n",
       "      <td>.</td>\n",
       "      <td>Rattus_norvegicus.fna</td>\n",
       "    </tr>\n",
       "    <tr>\n",
       "      <th>2</th>\n",
       "      <td>refseq</td>\n",
       "      <td>AC</td>\n",
       "      <td>10116</td>\n",
       "      <td>PRJNA16219</td>\n",
       "      <td>.</td>\n",
       "      <td>GCF_000002265.2</td>\n",
       "      <td>.</td>\n",
       "      <td>Rattus_norvegicus.fna</td>\n",
       "    </tr>\n",
       "    <tr>\n",
       "      <th>3</th>\n",
       "      <td>refseq</td>\n",
       "      <td>AC</td>\n",
       "      <td>10512</td>\n",
       "      <td>PRJNA15101</td>\n",
       "      <td>.</td>\n",
       "      <td>.</td>\n",
       "      <td>.</td>\n",
       "      <td>Canine_adenovirus_1.fna</td>\n",
       "    </tr>\n",
       "    <tr>\n",
       "      <th>4</th>\n",
       "      <td>refseq</td>\n",
       "      <td>AC</td>\n",
       "      <td>10514</td>\n",
       "      <td>PRJNA15102</td>\n",
       "      <td>.</td>\n",
       "      <td>.</td>\n",
       "      <td>.</td>\n",
       "      <td>Canine_adenovirus_2.fna</td>\n",
       "    </tr>\n",
       "  </tbody>\n",
       "</table>\n",
       "</div>"
      ],
      "text/plain": [
       "        0 prefix  taxid  bioproject     biosample assembly_accession plasmid  \\\n",
       "0  refseq     AC  10090  PRJNA16113  SAMN03004379    GCF_000002165.2       .   \n",
       "1  refseq     AC  10116  PRJNA12455             .                  .       .   \n",
       "2  refseq     AC  10116  PRJNA16219             .    GCF_000002265.2       .   \n",
       "3  refseq     AC  10512  PRJNA15101             .                  .       .   \n",
       "4  refseq     AC  10514  PRJNA15102             .                  .       .   \n",
       "\n",
       "              fna_filename  \n",
       "0         Mus_musculus.fna  \n",
       "1    Rattus_norvegicus.fna  \n",
       "2    Rattus_norvegicus.fna  \n",
       "3  Canine_adenovirus_1.fna  \n",
       "4  Canine_adenovirus_2.fna  "
      ]
     },
     "execution_count": 18,
     "metadata": {},
     "output_type": "execute_result"
    }
   ],
   "source": [
    "df_split_ids.head()"
   ]
  },
  {
   "cell_type": "markdown",
   "metadata": {},
   "source": [
    "The number of unique NCBI Taxonomy UIDs"
   ]
  },
  {
   "cell_type": "code",
   "execution_count": 20,
   "metadata": {},
   "outputs": [
    {
     "data": {
      "text/plain": [
       "42367"
      ]
     },
     "execution_count": 20,
     "metadata": {},
     "output_type": "execute_result"
    }
   ],
   "source": [
    "df_split_ids.taxid.unique().size"
   ]
  },
  {
   "cell_type": "markdown",
   "metadata": {},
   "source": [
    "## Fetch NCBI Taxonomy info using BioPython Entrez efetch\n",
    "\n",
    "Fetch the Taxonomy info from NCBI for a list of NCBI Taxonomy UIDs. "
   ]
  },
  {
   "cell_type": "code",
   "execution_count": 21,
   "metadata": {},
   "outputs": [],
   "source": [
    "from Bio import Entrez\n",
    "\n",
    "Entrez.email = 'peter.kruczkiewicz@gmail.com'\n",
    "\n",
    "def get_tax_lineage(taxids, filter_no_rank=True):\n",
    "    assert isinstance(taxids, list)\n",
    "    h = Entrez.efetch(db='Taxonomy', id=taxids, retmode='xml')\n",
    "    recs = Entrez.read(h)\n",
    "    dfs = []\n",
    "    for taxid, rec in zip(taxids, recs):\n",
    "        lineage_info = rec['LineageEx']\n",
    "        lineage_info.append({'TaxId': rec['TaxId'], \n",
    "                             'ScientificName': rec['ScientificName'],\n",
    "                             'Rank': rec['Rank']})\n",
    "        dflineage = pd.DataFrame(lineage_info)\n",
    "        if filter_no_rank:\n",
    "            dflineage = dflineage[dflineage['Rank'] != 'no rank']\n",
    "        dflineage = dflineage[~dflineage.duplicated(keep='first')]\n",
    "        dflineage['query_taxid'] = taxid\n",
    "        dfs.append(dflineage)\n",
    "    return pd.concat(dfs), recs"
   ]
  },
  {
   "cell_type": "markdown",
   "metadata": {},
   "source": [
    "Here's what the output looks like for a single taxid, 562, corresponding to *E. coli*"
   ]
  },
  {
   "cell_type": "code",
   "execution_count": 23,
   "metadata": {},
   "outputs": [],
   "source": [
    "dftest, recs_test = get_tax_lineage(['562'], filter_no_rank=False)"
   ]
  },
  {
   "cell_type": "code",
   "execution_count": 27,
   "metadata": {},
   "outputs": [
    {
     "data": {
      "text/html": [
       "<div>\n",
       "<style scoped>\n",
       "    .dataframe tbody tr th:only-of-type {\n",
       "        vertical-align: middle;\n",
       "    }\n",
       "\n",
       "    .dataframe tbody tr th {\n",
       "        vertical-align: top;\n",
       "    }\n",
       "\n",
       "    .dataframe thead th {\n",
       "        text-align: right;\n",
       "    }\n",
       "</style>\n",
       "<table border=\"1\" class=\"dataframe\">\n",
       "  <thead>\n",
       "    <tr style=\"text-align: right;\">\n",
       "      <th></th>\n",
       "      <th>Rank</th>\n",
       "      <th>ScientificName</th>\n",
       "      <th>TaxId</th>\n",
       "      <th>query_taxid</th>\n",
       "    </tr>\n",
       "  </thead>\n",
       "  <tbody>\n",
       "    <tr>\n",
       "      <th>0</th>\n",
       "      <td>no rank</td>\n",
       "      <td>cellular organisms</td>\n",
       "      <td>131567</td>\n",
       "      <td>562</td>\n",
       "    </tr>\n",
       "    <tr>\n",
       "      <th>1</th>\n",
       "      <td>superkingdom</td>\n",
       "      <td>Bacteria</td>\n",
       "      <td>2</td>\n",
       "      <td>562</td>\n",
       "    </tr>\n",
       "    <tr>\n",
       "      <th>2</th>\n",
       "      <td>phylum</td>\n",
       "      <td>Proteobacteria</td>\n",
       "      <td>1224</td>\n",
       "      <td>562</td>\n",
       "    </tr>\n",
       "    <tr>\n",
       "      <th>3</th>\n",
       "      <td>class</td>\n",
       "      <td>Gammaproteobacteria</td>\n",
       "      <td>1236</td>\n",
       "      <td>562</td>\n",
       "    </tr>\n",
       "    <tr>\n",
       "      <th>4</th>\n",
       "      <td>order</td>\n",
       "      <td>Enterobacterales</td>\n",
       "      <td>91347</td>\n",
       "      <td>562</td>\n",
       "    </tr>\n",
       "    <tr>\n",
       "      <th>5</th>\n",
       "      <td>family</td>\n",
       "      <td>Enterobacteriaceae</td>\n",
       "      <td>543</td>\n",
       "      <td>562</td>\n",
       "    </tr>\n",
       "    <tr>\n",
       "      <th>6</th>\n",
       "      <td>genus</td>\n",
       "      <td>Escherichia</td>\n",
       "      <td>561</td>\n",
       "      <td>562</td>\n",
       "    </tr>\n",
       "    <tr>\n",
       "      <th>7</th>\n",
       "      <td>species</td>\n",
       "      <td>Escherichia coli</td>\n",
       "      <td>562</td>\n",
       "      <td>562</td>\n",
       "    </tr>\n",
       "  </tbody>\n",
       "</table>\n",
       "</div>"
      ],
      "text/plain": [
       "           Rank       ScientificName   TaxId query_taxid\n",
       "0       no rank   cellular organisms  131567         562\n",
       "1  superkingdom             Bacteria       2         562\n",
       "2        phylum       Proteobacteria    1224         562\n",
       "3         class  Gammaproteobacteria    1236         562\n",
       "4         order     Enterobacterales   91347         562\n",
       "5        family   Enterobacteriaceae     543         562\n",
       "6         genus          Escherichia     561         562\n",
       "7       species     Escherichia coli     562         562"
      ]
     },
     "execution_count": 27,
     "metadata": {},
     "output_type": "execute_result"
    }
   ],
   "source": [
    "dftest"
   ]
  },
  {
   "cell_type": "code",
   "execution_count": 25,
   "metadata": {},
   "outputs": [
    {
     "data": {
      "text/plain": [
       "1"
      ]
     },
     "execution_count": 25,
     "metadata": {},
     "output_type": "execute_result"
    }
   ],
   "source": [
    "len(recs_test)"
   ]
  },
  {
   "cell_type": "code",
   "execution_count": 26,
   "metadata": {},
   "outputs": [
    {
     "data": {
      "text/plain": [
       "[{'TaxId': '562', 'ScientificName': 'Escherichia coli', 'OtherNames': {'EquivalentName': ['Escherichia/Shigella coli'], 'Synonym': ['Bacillus coli', 'Bacterium coli', 'Bacterium coli commune', 'Enterococcus coli'], 'Acronym': [], 'Misspelling': [], 'Anamorph': [], 'Includes': ['Escherichia sp. MAR', 'bacterium 10a', 'bacterium E3'], 'CommonName': ['E. coli'], 'Inpart': [], 'Misnomer': [], 'Teleomorph': [], 'GenbankSynonym': [], 'GenbankAnamorph': [], 'Name': [{'ClassCDE': 'authority', 'DispName': '\"Bacillus coli\" Migula 1895'}, {'ClassCDE': 'authority', 'DispName': '\"Bacterium coli commune\" Escherich 1885'}, {'ClassCDE': 'authority', 'DispName': '\"Bacterium coli\" (Migula 1895) Lehmann and Neumann 1896'}, {'ClassCDE': 'authority', 'DispName': 'Escherichia coli (Migula 1895) Castellani and Chalmers 1919'}, {'ClassCDE': 'type material', 'DispName': 'ATCC 11775'}, {'ClassCDE': 'type material', 'DispName': 'CCUG 24'}, {'ClassCDE': 'type material', 'DispName': 'CCUG 29300'}, {'ClassCDE': 'type material', 'DispName': 'CIP 54.8'}, {'ClassCDE': 'type material', 'DispName': 'DSM 30083'}, {'ClassCDE': 'type material', 'DispName': 'JCM 1649'}, {'ClassCDE': 'type material', 'DispName': 'LMG 2092'}, {'ClassCDE': 'type material', 'DispName': 'NBRC 102203'}, {'ClassCDE': 'type material', 'DispName': 'NCCB 54008'}, {'ClassCDE': 'type material', 'DispName': 'NCTC 9001'}, {'ClassCDE': 'misspelling', 'DispName': 'Escherchia coli'}, {'ClassCDE': 'misspelling', 'DispName': 'Eschericia coli'}]}, 'ParentTaxId': '561', 'Rank': 'species', 'Division': 'Bacteria', 'GeneticCode': {'GCId': '11', 'GCName': 'Bacterial, Archaeal and Plant Plastid'}, 'MitoGeneticCode': {'MGCId': '0', 'MGCName': 'Unspecified'}, 'Lineage': 'cellular organisms; Bacteria; Proteobacteria; Gammaproteobacteria; Enterobacterales; Enterobacteriaceae; Escherichia', 'LineageEx': [{'TaxId': '131567', 'ScientificName': 'cellular organisms', 'Rank': 'no rank'}, {'TaxId': '2', 'ScientificName': 'Bacteria', 'Rank': 'superkingdom'}, {'TaxId': '1224', 'ScientificName': 'Proteobacteria', 'Rank': 'phylum'}, {'TaxId': '1236', 'ScientificName': 'Gammaproteobacteria', 'Rank': 'class'}, {'TaxId': '91347', 'ScientificName': 'Enterobacterales', 'Rank': 'order'}, {'TaxId': '543', 'ScientificName': 'Enterobacteriaceae', 'Rank': 'family'}, {'TaxId': '561', 'ScientificName': 'Escherichia', 'Rank': 'genus'}, {'TaxId': '562', 'ScientificName': 'Escherichia coli', 'Rank': 'species'}], 'CreateDate': '1995/02/27 09:24:00', 'UpdateDate': '2017/06/14 10:56:24', 'PubDate': '1993/06/11 01:00:00'}]"
      ]
     },
     "execution_count": 26,
     "metadata": {},
     "output_type": "execute_result"
    }
   ],
   "source": [
    "recs_test"
   ]
  },
  {
   "cell_type": "markdown",
   "metadata": {},
   "source": [
    "### Getting all taxonomic info for all 42367 taxids\n",
    "\n",
    "The taxonomy info was fetched in batches of 1000 (max taxids you can query at once with the API is 10000).\n",
    "\n",
    "However there are a few missing taxids that needed to be accounted for:\n",
    "```\n",
    "1539978\n",
    "1608275\n",
    "1609188\n",
    "```\n",
    "\n",
    "Unfortunately, the response from NCBI API doesn't let you know that your taxid was deleted or changed, so it was something that had to be manually tracked down.\n",
    "\n",
    "\n",
    "\n",
    "*Don't execute the following cell*"
   ]
  },
  {
   "cell_type": "code",
   "execution_count": 176,
   "metadata": {},
   "outputs": [
    {
     "name": "stdout",
     "output_type": "stream",
     "text": [
      "0 1000 1000\n",
      "1000 1000 1000\n",
      "2000 1000 1000\n",
      "3000 1000 1000\n",
      "4000 997 997\n",
      "5000 1000 1000\n",
      "6000 1000 1000\n",
      "7000 1000 1000\n",
      "8000 1000 1000\n",
      "9000 1000 1000\n",
      "10000 1000 1000\n",
      "11000 1000 1000\n",
      "12000 1000 1000\n",
      "13000 1000 1000\n",
      "14000 1000 1000\n",
      "15000 1000 1000\n",
      "16000 1000 1000\n",
      "17000 1000 1000\n",
      "18000 1000 1000\n",
      "19000 1000 1000\n",
      "20000 1000 1000\n",
      "21000 1000 1000\n",
      "22000 1000 1000\n",
      "23000 1000 1000\n",
      "24000 1000 1000\n",
      "25000 1000 1000\n",
      "26000 1000 1000\n",
      "27000 1000 1000\n",
      "28000 1000 1000\n",
      "29000 1000 1000\n",
      "30000 1000 1000\n",
      "31000 1000 1000\n",
      "32000 1000 1000\n",
      "33000 1000 1000\n",
      "34000 1000 1000\n",
      "35000 1000 1000\n",
      "36000 1000 1000\n",
      "37000 1000 1000\n",
      "38000 1000 1000\n",
      "39000 1000 1000\n",
      "40000 1000 1000\n",
      "41000 1000 1000\n",
      "42000 367 367\n"
     ]
    }
   ],
   "source": [
    "# do not execute this cell; it takes a long time\n",
    "step = 1000\n",
    "all_dfs = []\n",
    "all_recs = []\n",
    "for i in range(0, len(taxids), step):\n",
    "    retry = 0\n",
    "    while True:\n",
    "        try:\n",
    "            if retry >= 5:\n",
    "                break\n",
    "            big_df, recs = get_tax_lineage(taxids[i:i+step], filter_no_rank=False)\n",
    "            print(i, big_df.query_taxid.unique().size, len(recs))\n",
    "            all_dfs.append(big_df)\n",
    "            all_recs += recs\n",
    "            break\n",
    "        except Exception as ex:\n",
    "            print(ex.message)\n",
    "            retry += 1\n",
    "            print('Retrying', retry)"
   ]
  },
  {
   "cell_type": "markdown",
   "metadata": {},
   "source": [
    "Taxonomy info for 3 of the taxids could not be retrieved"
   ]
  },
  {
   "cell_type": "code",
   "execution_count": 33,
   "metadata": {},
   "outputs": [
    {
     "data": {
      "text/plain": [
       "3"
      ]
     },
     "execution_count": 33,
     "metadata": {},
     "output_type": "execute_result"
    }
   ],
   "source": [
    "df_split_ids.taxid.unique().size - len(all_recs)"
   ]
  },
  {
   "cell_type": "markdown",
   "metadata": {},
   "source": [
    "The missing taxids were in between taxids 4000 and 5000"
   ]
  },
  {
   "cell_type": "code",
   "execution_count": 178,
   "metadata": {},
   "outputs": [],
   "source": [
    "missing_recs = all_recs[4000:5000]"
   ]
  },
  {
   "cell_type": "markdown",
   "metadata": {},
   "source": [
    "Manually determined missing taxids"
   ]
  },
  {
   "cell_type": "code",
   "execution_count": 200,
   "metadata": {},
   "outputs": [],
   "source": [
    "deleted_taxids = '''\n",
    "1539978\n",
    "1608275\n",
    "1609188\n",
    "'''.strip().split('\\n')"
   ]
  },
  {
   "cell_type": "code",
   "execution_count": 201,
   "metadata": {},
   "outputs": [],
   "source": [
    "taxids_4000_no_missing = [x for x in taxids[4000:5000] if not x in deleted_taxids]"
   ]
  },
  {
   "cell_type": "code",
   "execution_count": 202,
   "metadata": {},
   "outputs": [
    {
     "data": {
      "text/plain": [
       "997"
      ]
     },
     "execution_count": 202,
     "metadata": {},
     "output_type": "execute_result"
    }
   ],
   "source": [
    "len(taxids_4000_no_missing)"
   ]
  },
  {
   "cell_type": "markdown",
   "metadata": {},
   "source": [
    "Queried for non-missing taxids in `taxids[4000:5000]`"
   ]
  },
  {
   "cell_type": "code",
   "execution_count": 203,
   "metadata": {},
   "outputs": [
    {
     "name": "stdout",
     "output_type": "stream",
     "text": [
      "4900 997 997\n"
     ]
    }
   ],
   "source": [
    "big_df, recs = get_tax_lineage(taxids_4000_no_missing, filter_no_rank=False)\n",
    "print(i, big_df.query_taxid.unique().size, len(recs))"
   ]
  },
  {
   "cell_type": "markdown",
   "metadata": {},
   "source": [
    "Replaced DataFrame at index 4 with missing taxids accounted for"
   ]
  },
  {
   "cell_type": "code",
   "execution_count": 207,
   "metadata": {},
   "outputs": [],
   "source": [
    "all_dfs[4] = big_df"
   ]
  },
  {
   "cell_type": "markdown",
   "metadata": {},
   "source": [
    "### Concatenated DataFrames from batched NCBI Taxonomy DB queries"
   ]
  },
  {
   "cell_type": "code",
   "execution_count": 208,
   "metadata": {},
   "outputs": [],
   "source": [
    "dfalltaxid = pd.concat(all_dfs)"
   ]
  },
  {
   "cell_type": "code",
   "execution_count": 212,
   "metadata": {},
   "outputs": [],
   "source": [
    "dfalltaxid = dfalltaxid.reset_index()"
   ]
  },
  {
   "cell_type": "code",
   "execution_count": 216,
   "metadata": {},
   "outputs": [],
   "source": [
    "dfalltaxid = dfalltaxid[dfalltaxid.columns[1:]]"
   ]
  },
  {
   "cell_type": "markdown",
   "metadata": {},
   "source": [
    "Removed some uninformative info"
   ]
  },
  {
   "cell_type": "code",
   "execution_count": 229,
   "metadata": {},
   "outputs": [],
   "source": [
    "dfalltaxid = dfalltaxid[~(dfalltaxid.ScientificName == 'cellular organisms')]"
   ]
  },
  {
   "cell_type": "code",
   "execution_count": 233,
   "metadata": {},
   "outputs": [],
   "source": [
    "dfalltaxid.Rank[dfalltaxid.Rank == 'no rank'] = None"
   ]
  },
  {
   "cell_type": "markdown",
   "metadata": {},
   "source": [
    "Rename columns"
   ]
  },
  {
   "cell_type": "code",
   "execution_count": 270,
   "metadata": {},
   "outputs": [],
   "source": [
    "dfalltaxid.columns = \"\"\"\n",
    "rank\n",
    "name\n",
    "taxid\n",
    "query_taxid\n",
    "\"\"\".strip().split('\\n')"
   ]
  },
  {
   "cell_type": "markdown",
   "metadata": {},
   "source": [
    "### Save taxonomy information table"
   ]
  },
  {
   "cell_type": "code",
   "execution_count": 234,
   "metadata": {},
   "outputs": [],
   "source": [
    "dfalltaxid.to_csv('refseq-taxid-info.csv', index=None)"
   ]
  },
  {
   "cell_type": "code",
   "execution_count": 238,
   "metadata": {
    "scrolled": true
   },
   "outputs": [
    {
     "data": {
      "text/html": [
       "<div>\n",
       "<style scoped>\n",
       "    .dataframe tbody tr th:only-of-type {\n",
       "        vertical-align: middle;\n",
       "    }\n",
       "\n",
       "    .dataframe tbody tr th {\n",
       "        vertical-align: top;\n",
       "    }\n",
       "\n",
       "    .dataframe thead th {\n",
       "        text-align: right;\n",
       "    }\n",
       "</style>\n",
       "<table border=\"1\" class=\"dataframe\">\n",
       "  <thead>\n",
       "    <tr style=\"text-align: right;\">\n",
       "      <th></th>\n",
       "      <th>Rank</th>\n",
       "      <th>ScientificName</th>\n",
       "      <th>TaxId</th>\n",
       "      <th>query_taxid</th>\n",
       "    </tr>\n",
       "  </thead>\n",
       "  <tbody>\n",
       "    <tr>\n",
       "      <th>1</th>\n",
       "      <td>superkingdom</td>\n",
       "      <td>Eukaryota</td>\n",
       "      <td>2759</td>\n",
       "      <td>10090</td>\n",
       "    </tr>\n",
       "    <tr>\n",
       "      <th>2</th>\n",
       "      <td>None</td>\n",
       "      <td>Opisthokonta</td>\n",
       "      <td>33154</td>\n",
       "      <td>10090</td>\n",
       "    </tr>\n",
       "    <tr>\n",
       "      <th>3</th>\n",
       "      <td>kingdom</td>\n",
       "      <td>Metazoa</td>\n",
       "      <td>33208</td>\n",
       "      <td>10090</td>\n",
       "    </tr>\n",
       "    <tr>\n",
       "      <th>4</th>\n",
       "      <td>None</td>\n",
       "      <td>Eumetazoa</td>\n",
       "      <td>6072</td>\n",
       "      <td>10090</td>\n",
       "    </tr>\n",
       "    <tr>\n",
       "      <th>5</th>\n",
       "      <td>None</td>\n",
       "      <td>Bilateria</td>\n",
       "      <td>33213</td>\n",
       "      <td>10090</td>\n",
       "    </tr>\n",
       "    <tr>\n",
       "      <th>6</th>\n",
       "      <td>None</td>\n",
       "      <td>Deuterostomia</td>\n",
       "      <td>33511</td>\n",
       "      <td>10090</td>\n",
       "    </tr>\n",
       "    <tr>\n",
       "      <th>7</th>\n",
       "      <td>phylum</td>\n",
       "      <td>Chordata</td>\n",
       "      <td>7711</td>\n",
       "      <td>10090</td>\n",
       "    </tr>\n",
       "    <tr>\n",
       "      <th>8</th>\n",
       "      <td>subphylum</td>\n",
       "      <td>Craniata</td>\n",
       "      <td>89593</td>\n",
       "      <td>10090</td>\n",
       "    </tr>\n",
       "    <tr>\n",
       "      <th>9</th>\n",
       "      <td>None</td>\n",
       "      <td>Vertebrata</td>\n",
       "      <td>7742</td>\n",
       "      <td>10090</td>\n",
       "    </tr>\n",
       "    <tr>\n",
       "      <th>10</th>\n",
       "      <td>None</td>\n",
       "      <td>Gnathostomata</td>\n",
       "      <td>7776</td>\n",
       "      <td>10090</td>\n",
       "    </tr>\n",
       "    <tr>\n",
       "      <th>11</th>\n",
       "      <td>None</td>\n",
       "      <td>Teleostomi</td>\n",
       "      <td>117570</td>\n",
       "      <td>10090</td>\n",
       "    </tr>\n",
       "    <tr>\n",
       "      <th>12</th>\n",
       "      <td>None</td>\n",
       "      <td>Euteleostomi</td>\n",
       "      <td>117571</td>\n",
       "      <td>10090</td>\n",
       "    </tr>\n",
       "    <tr>\n",
       "      <th>13</th>\n",
       "      <td>None</td>\n",
       "      <td>Sarcopterygii</td>\n",
       "      <td>8287</td>\n",
       "      <td>10090</td>\n",
       "    </tr>\n",
       "    <tr>\n",
       "      <th>14</th>\n",
       "      <td>None</td>\n",
       "      <td>Dipnotetrapodomorpha</td>\n",
       "      <td>1338369</td>\n",
       "      <td>10090</td>\n",
       "    </tr>\n",
       "    <tr>\n",
       "      <th>15</th>\n",
       "      <td>None</td>\n",
       "      <td>Tetrapoda</td>\n",
       "      <td>32523</td>\n",
       "      <td>10090</td>\n",
       "    </tr>\n",
       "    <tr>\n",
       "      <th>16</th>\n",
       "      <td>None</td>\n",
       "      <td>Amniota</td>\n",
       "      <td>32524</td>\n",
       "      <td>10090</td>\n",
       "    </tr>\n",
       "    <tr>\n",
       "      <th>17</th>\n",
       "      <td>class</td>\n",
       "      <td>Mammalia</td>\n",
       "      <td>40674</td>\n",
       "      <td>10090</td>\n",
       "    </tr>\n",
       "    <tr>\n",
       "      <th>18</th>\n",
       "      <td>None</td>\n",
       "      <td>Theria</td>\n",
       "      <td>32525</td>\n",
       "      <td>10090</td>\n",
       "    </tr>\n",
       "    <tr>\n",
       "      <th>19</th>\n",
       "      <td>None</td>\n",
       "      <td>Eutheria</td>\n",
       "      <td>9347</td>\n",
       "      <td>10090</td>\n",
       "    </tr>\n",
       "    <tr>\n",
       "      <th>20</th>\n",
       "      <td>None</td>\n",
       "      <td>Boreoeutheria</td>\n",
       "      <td>1437010</td>\n",
       "      <td>10090</td>\n",
       "    </tr>\n",
       "    <tr>\n",
       "      <th>21</th>\n",
       "      <td>superorder</td>\n",
       "      <td>Euarchontoglires</td>\n",
       "      <td>314146</td>\n",
       "      <td>10090</td>\n",
       "    </tr>\n",
       "    <tr>\n",
       "      <th>22</th>\n",
       "      <td>None</td>\n",
       "      <td>Glires</td>\n",
       "      <td>314147</td>\n",
       "      <td>10090</td>\n",
       "    </tr>\n",
       "    <tr>\n",
       "      <th>23</th>\n",
       "      <td>order</td>\n",
       "      <td>Rodentia</td>\n",
       "      <td>9989</td>\n",
       "      <td>10090</td>\n",
       "    </tr>\n",
       "    <tr>\n",
       "      <th>24</th>\n",
       "      <td>suborder</td>\n",
       "      <td>Myomorpha</td>\n",
       "      <td>1963758</td>\n",
       "      <td>10090</td>\n",
       "    </tr>\n",
       "    <tr>\n",
       "      <th>25</th>\n",
       "      <td>None</td>\n",
       "      <td>Muroidea</td>\n",
       "      <td>337687</td>\n",
       "      <td>10090</td>\n",
       "    </tr>\n",
       "    <tr>\n",
       "      <th>26</th>\n",
       "      <td>family</td>\n",
       "      <td>Muridae</td>\n",
       "      <td>10066</td>\n",
       "      <td>10090</td>\n",
       "    </tr>\n",
       "    <tr>\n",
       "      <th>27</th>\n",
       "      <td>subfamily</td>\n",
       "      <td>Murinae</td>\n",
       "      <td>39107</td>\n",
       "      <td>10090</td>\n",
       "    </tr>\n",
       "    <tr>\n",
       "      <th>28</th>\n",
       "      <td>genus</td>\n",
       "      <td>Mus</td>\n",
       "      <td>10088</td>\n",
       "      <td>10090</td>\n",
       "    </tr>\n",
       "    <tr>\n",
       "      <th>29</th>\n",
       "      <td>subgenus</td>\n",
       "      <td>Mus</td>\n",
       "      <td>862507</td>\n",
       "      <td>10090</td>\n",
       "    </tr>\n",
       "    <tr>\n",
       "      <th>30</th>\n",
       "      <td>species</td>\n",
       "      <td>Mus musculus</td>\n",
       "      <td>10090</td>\n",
       "      <td>10090</td>\n",
       "    </tr>\n",
       "  </tbody>\n",
       "</table>\n",
       "</div>"
      ],
      "text/plain": [
       "            Rank        ScientificName    TaxId query_taxid\n",
       "1   superkingdom             Eukaryota     2759       10090\n",
       "2           None          Opisthokonta    33154       10090\n",
       "3        kingdom               Metazoa    33208       10090\n",
       "4           None             Eumetazoa     6072       10090\n",
       "5           None             Bilateria    33213       10090\n",
       "6           None         Deuterostomia    33511       10090\n",
       "7         phylum              Chordata     7711       10090\n",
       "8      subphylum              Craniata    89593       10090\n",
       "9           None            Vertebrata     7742       10090\n",
       "10          None         Gnathostomata     7776       10090\n",
       "11          None            Teleostomi   117570       10090\n",
       "12          None          Euteleostomi   117571       10090\n",
       "13          None         Sarcopterygii     8287       10090\n",
       "14          None  Dipnotetrapodomorpha  1338369       10090\n",
       "15          None             Tetrapoda    32523       10090\n",
       "16          None               Amniota    32524       10090\n",
       "17         class              Mammalia    40674       10090\n",
       "18          None                Theria    32525       10090\n",
       "19          None              Eutheria     9347       10090\n",
       "20          None         Boreoeutheria  1437010       10090\n",
       "21    superorder      Euarchontoglires   314146       10090\n",
       "22          None                Glires   314147       10090\n",
       "23         order              Rodentia     9989       10090\n",
       "24      suborder             Myomorpha  1963758       10090\n",
       "25          None              Muroidea   337687       10090\n",
       "26        family               Muridae    10066       10090\n",
       "27     subfamily               Murinae    39107       10090\n",
       "28         genus                   Mus    10088       10090\n",
       "29      subgenus                   Mus   862507       10090\n",
       "30       species          Mus musculus    10090       10090"
      ]
     },
     "execution_count": 238,
     "metadata": {},
     "output_type": "execute_result"
    }
   ],
   "source": [
    "dfalltaxid[dfalltaxid.query_taxid == '10090']"
   ]
  },
  {
   "cell_type": "markdown",
   "metadata": {},
   "source": [
    "## Generate NCBI RefSeq Taxonomy Summary Table\n",
    "\n",
    "The `dfalltaxid` table contains a lot of extra information in an inefficient format so it would be useful to summarize that info in a table with one row corresponding to one RefSeq taxid."
   ]
  },
  {
   "cell_type": "code",
   "execution_count": 275,
   "metadata": {},
   "outputs": [],
   "source": [
    "from typing import List"
   ]
  },
  {
   "cell_type": "code",
   "execution_count": 278,
   "metadata": {},
   "outputs": [],
   "source": [
    "def get_full_taxonomy(l: List[str]) -> str:\n",
    "    \"\"\"From an ordered list of taxonomic classifications, return a string of concatenated taxonomic info\n",
    "\n",
    "    Remove some of the redundancy between classifications, e.g.\n",
    "\n",
    "    [\"Salmonella enterica\", \"Salmonella enterica subsp. enterica\"]\n",
    "\n",
    "    is concatenated to\n",
    "\n",
    "    \"Salmonella enterica; subsp. enterica\" rather than \"Salmonella enterica; Salmonella enterica subsp. enterica\"\n",
    "\n",
    "    Args:\n",
    "        l: list of taxonomic classifications\n",
    "\n",
    "    Returns:\n",
    "        (str): concatenated taxonomic classifications with some redundancy removed\n",
    "    \"\"\"\n",
    "    out = [l[0]]\n",
    "    for i in range(1, len(l)):\n",
    "        prev = l[i - 1]\n",
    "        curr = l[i]\n",
    "        out.append(curr.replace(prev, '').strip())\n",
    "    return '; '.join(out)\n",
    "\n",
    "\n",
    "def summary_taxid(dftax):\n",
    "    taxids = dftax.query_taxid.unique()\n",
    "    df_has_rank = dftax[~pd.isnull(dftax['rank'])]\n",
    "    dicts = []\n",
    "    for i, taxid in enumerate(taxids):\n",
    "        d = {'taxid': taxid}\n",
    "        df_has_rank_taxid = df_has_rank[df_has_rank['query_taxid'] == taxid]\n",
    "        for _, r in df_has_rank_taxid.iterrows():\n",
    "            d['taxonomic_{}'.format(r['rank'])] = r['name']\n",
    "        df_matching_taxid = dftax[dftax['query_taxid'] == taxid]\n",
    "        # highest resolution taxonomic classification is the last entry for that taxid so get last row\n",
    "        try:\n",
    "            _, row = df_matching_taxid[~df_matching_taxid['query_taxid'].duplicated(keep='last')].iterrows().__next__()\n",
    "            d['top_taxonomy_name'] = row['name']\n",
    "        except StopIteration:\n",
    "            d['top_taxonomy_name'] = None\n",
    "            print('Could not get top taxonomic classification for taxid %s', taxid)\n",
    "        # build string of concatenated all taxonomic info with some redundancy between successive terms\n",
    "        try:\n",
    "            d['full_taxonomy'] = get_full_taxonomy(list(df_matching_taxid['name']))\n",
    "        except IndexError:\n",
    "            d['full_taxonomy'] = None\n",
    "            print('Could not get full taxonomy for taxid %s', taxid)\n",
    "        dicts.append(d)\n",
    "        if i % 1000 == 0:\n",
    "            print('Parsed taxnomic info entries', i, d, len(dicts))\n",
    "    return pd.DataFrame(dicts)"
   ]
  },
  {
   "cell_type": "markdown",
   "metadata": {},
   "source": [
    "Produce summarized NCBI Taxonomy info table for each unique taxid in `../refseq_masher/data/RefSeqSketches.msh`"
   ]
  },
  {
   "cell_type": "code",
   "execution_count": 279,
   "metadata": {},
   "outputs": [
    {
     "name": "stdout",
     "output_type": "stream",
     "text": [
      "Parsed taxnomic info entries 0 {'taxid': '10090', 'taxonomic_superkingdom': 'Eukaryota', 'taxonomic_kingdom': 'Metazoa', 'taxonomic_phylum': 'Chordata', 'taxonomic_subphylum': 'Craniata', 'taxonomic_class': 'Mammalia', 'taxonomic_superorder': 'Euarchontoglires', 'taxonomic_order': 'Rodentia', 'taxonomic_suborder': 'Myomorpha', 'taxonomic_family': 'Muridae', 'taxonomic_subfamily': 'Murinae', 'taxonomic_genus': 'Mus', 'taxonomic_subgenus': 'Mus', 'taxonomic_species': 'Mus musculus', 'top_taxonomy_name': 'Mus musculus', 'full_taxonomy': 'Eukaryota; Opisthokonta; Metazoa; Eumetazoa; Bilateria; Deuterostomia; Chordata; Craniata; Vertebrata; Gnathostomata; Teleostomi; Euteleostomi; Sarcopterygii; Dipnotetrapodomorpha; Tetrapoda; Amniota; Mammalia; Theria; Eutheria; Boreoeutheria; Euarchontoglires; Glires; Rodentia; Myomorpha; Muroidea; Muridae; Murinae; Mus; ; musculus'} 1\n",
      "Parsed taxnomic info entries 1000 {'taxid': '1113547', 'taxonomic_superkingdom': 'Viruses', 'taxonomic_order': 'Caudovirales', 'taxonomic_family': 'Podoviridae', 'taxonomic_genus': 'Nonanavirus', 'taxonomic_species': 'Salmonella virus 9NA', 'top_taxonomy_name': 'Salmonella phage 9NA', 'full_taxonomy': 'Viruses; dsDNA viruses, no RNA stage; Caudovirales; Podoviridae; Nonanavirus; Salmonella virus 9NA; Salmonella phage 9NA'} 1001\n",
      "Parsed taxnomic info entries 2000 {'taxid': '12235', 'taxonomic_superkingdom': 'Viruses', 'taxonomic_family': 'Virgaviridae', 'taxonomic_genus': 'Tobamovirus', 'taxonomic_species': 'Cucumber green mottle mosaic virus', 'top_taxonomy_name': 'Cucumber green mottle mosaic virus', 'full_taxonomy': 'Viruses; ssRNA viruses; ssRNA positive-strand viruses, no DNA stage; Virgaviridae; Tobamovirus; Cucumber green mottle mosaic virus'} 2001\n",
      "Parsed taxnomic info entries 3000 {'taxid': '1346815', 'taxonomic_superkingdom': 'Viruses', 'taxonomic_species': 'Circo-like virus-Brazil', 'top_taxonomy_name': 'Circo-like virus-Brazil hs1', 'full_taxonomy': 'Viruses; ssDNA viruses; unclassified; Circo-like virus-Brazil; hs1'} 3001\n",
      "Parsed taxnomic info entries 4000 {'taxid': '1511639', 'taxonomic_superkingdom': 'Viruses', 'taxonomic_order': 'Mononegavirales', 'taxonomic_family': 'Rhabdoviridae', 'taxonomic_species': 'Dolphin rhabdovirus', 'top_taxonomy_name': 'Dolphin rhabdovirus', 'full_taxonomy': 'Viruses; ssRNA viruses; ssRNA negative-strand viruses; Mononegavirales; Rhabdoviridae; unclassified; Dolphin rhabdovirus'} 4001\n",
      "Parsed taxnomic info entries 5000 {'taxid': '183858', 'taxonomic_superkingdom': 'Eukaryota', 'taxonomic_kingdom': 'Viridiplantae', 'taxonomic_phylum': 'Streptophyta', 'taxonomic_subphylum': 'Streptophytina', 'taxonomic_subclass': 'rosids', 'taxonomic_order': 'Myrtales', 'taxonomic_family': 'Myrtaceae', 'taxonomic_subfamily': 'Myrtoideae', 'taxonomic_tribe': 'Eucalypteae', 'taxonomic_genus': 'Eucalyptus', 'taxonomic_species': 'Eucalyptus torquata', 'top_taxonomy_name': 'Eucalyptus torquata', 'full_taxonomy': 'Eukaryota; Viridiplantae; Streptophyta; Streptophytina; Embryophyta; Tracheophyta; Euphyllophyta; Spermatophyta; Magnoliophyta; Mesangiospermae; eudicotyledons; Gunneridae; Pentapetalae; rosids; malvids; Myrtales; Myrtaceae; Myrtoideae; Eucalypteae; Eucalyptus; torquata'} 5001\n",
      "Parsed taxnomic info entries 6000 {'taxid': '249583', 'taxonomic_superkingdom': 'Viruses', 'taxonomic_order': 'Mononegavirales', 'taxonomic_family': 'Rhabdoviridae', 'taxonomic_genus': 'Lyssavirus', 'taxonomic_species': 'Irkut lyssavirus', 'top_taxonomy_name': 'Irkut lyssavirus', 'full_taxonomy': 'Viruses; ssRNA viruses; ssRNA negative-strand viruses; Mononegavirales; Rhabdoviridae; Lyssavirus; Irkut lyssavirus'} 6001\n",
      "Parsed taxnomic info entries 7000 {'taxid': '311403', 'taxonomic_superkingdom': 'Bacteria', 'taxonomic_phylum': 'Proteobacteria', 'taxonomic_class': 'Alphaproteobacteria', 'taxonomic_order': 'Rhizobiales', 'taxonomic_family': 'Rhizobiaceae', 'taxonomic_genus': 'Agrobacterium', 'taxonomic_species group': 'Agrobacterium tumefaciens complex', 'taxonomic_species': 'Agrobacterium tumefaciens', 'top_taxonomy_name': 'Agrobacterium radiobacter K84', 'full_taxonomy': 'Bacteria; Proteobacteria; Alphaproteobacteria; Rhizobiales; Rhizobiaceae; Rhizobium/Agrobacterium group; Agrobacterium; tumefaciens complex; Agrobacterium tumefaciens; Agrobacterium radiobacter K84'} 7001\n",
      "Parsed taxnomic info entries 8000 {'taxid': '364019', 'taxonomic_superkingdom': 'Eukaryota', 'taxonomic_kingdom': 'Metazoa', 'taxonomic_phylum': 'Porifera', 'taxonomic_class': 'Demospongiae', 'taxonomic_subclass': 'Heteroscleromorpha', 'taxonomic_order': 'Suberitida', 'taxonomic_family': 'Halichondriidae', 'taxonomic_genus': 'Hymeniacidon', 'taxonomic_species': 'Hymeniacidon sinapium', 'top_taxonomy_name': 'Hymeniacidon sinapium', 'full_taxonomy': 'Eukaryota; Opisthokonta; Metazoa; Porifera; Demospongiae; Heteroscleromorpha; Suberitida; Halichondriidae; Hymeniacidon; sinapium'} 8001\n",
      "Parsed taxnomic info entries 9000 {'taxid': '42529', 'taxonomic_superkingdom': 'Eukaryota', 'taxonomic_kingdom': 'Metazoa', 'taxonomic_phylum': 'Chordata', 'taxonomic_subphylum': 'Craniata', 'taxonomic_superclass': 'Actinopterygii', 'taxonomic_class': 'Actinopteri', 'taxonomic_subclass': 'Neopterygii', 'taxonomic_infraclass': 'Teleostei', 'taxonomic_superorder': 'Characiphysae', 'taxonomic_order': 'Characiformes', 'taxonomic_suborder': 'Characoidei', 'taxonomic_family': 'Serrasalmidae', 'taxonomic_genus': 'Piaractus', 'taxonomic_species': 'Piaractus brachypomus', 'top_taxonomy_name': 'Piaractus brachypomus', 'full_taxonomy': 'Eukaryota; Opisthokonta; Metazoa; Eumetazoa; Bilateria; Deuterostomia; Chordata; Craniata; Vertebrata; Gnathostomata; Teleostomi; Euteleostomi; Actinopterygii; Actinopteri; Neopterygii; Teleostei; Osteoglossocephalai; Clupeocephala; Otomorpha; Ostariophysi; Otophysi; Characiphysae; Characiformes; Characoidei; Serrasalmidae; Piaractus; brachypomus'} 9001\n",
      "Parsed taxnomic info entries 10000 {'taxid': '499556', 'taxonomic_superkingdom': 'Viruses', 'taxonomic_family': 'Arenaviridae', 'taxonomic_genus': 'Mammarenavirus', 'taxonomic_species': 'Chapare mammarenavirus', 'top_taxonomy_name': 'Chapare mammarenavirus', 'full_taxonomy': 'Viruses; ssRNA viruses; ssRNA negative-strand viruses; Arenaviridae; Mammarenavirus; Chapare mammarenavirus'} 10001\n",
      "Parsed taxnomic info entries 11000 {'taxid': '587282', 'taxonomic_superkingdom': 'Eukaryota', 'taxonomic_phylum': 'Apicomplexa', 'taxonomic_class': 'Aconoidasida', 'taxonomic_order': 'Haemosporida', 'taxonomic_family': 'Leucocytozoidae', 'taxonomic_genus': 'Leucocytozoon', 'taxonomic_species': 'Leucocytozoon fringillinarum', 'top_taxonomy_name': 'Leucocytozoon fringillinarum', 'full_taxonomy': 'Eukaryota; Alveolata; Apicomplexa; Aconoidasida; Haemosporida; Leucocytozoidae; Leucocytozoon; fringillinarum'} 11001\n",
      "Parsed taxnomic info entries 12000 {'taxid': '691965', 'taxonomic_superkingdom': 'Viruses', 'taxonomic_order': 'Caudovirales', 'taxonomic_family': 'Siphoviridae', 'taxonomic_genus': 'Pepy6virus', 'taxonomic_species': 'Rhodococcus virus Pepy6', 'top_taxonomy_name': 'Rhodococcus phage ReqiPepy6', 'full_taxonomy': 'Viruses; dsDNA viruses, no RNA stage; Caudovirales; Siphoviridae; Pepy6virus; Rhodococcus virus Pepy6; Rhodococcus phage ReqiPepy6'} 12001\n",
      "Parsed taxnomic info entries 13000 {'taxid': '8240', 'taxonomic_superkingdom': 'Eukaryota', 'taxonomic_kingdom': 'Metazoa', 'taxonomic_phylum': 'Chordata', 'taxonomic_subphylum': 'Craniata', 'taxonomic_superclass': 'Actinopterygii', 'taxonomic_class': 'Actinopteri', 'taxonomic_subclass': 'Neopterygii', 'taxonomic_infraclass': 'Teleostei', 'taxonomic_order': 'Scombriformes', 'taxonomic_family': 'Scombridae', 'taxonomic_subfamily': 'Scombrinae', 'taxonomic_tribe': 'Thunnini', 'taxonomic_genus': 'Thunnus', 'taxonomic_species': 'Thunnus maccoyii', 'top_taxonomy_name': 'Thunnus maccoyii', 'full_taxonomy': 'Eukaryota; Opisthokonta; Metazoa; Eumetazoa; Bilateria; Deuterostomia; Chordata; Craniata; Vertebrata; Gnathostomata; Teleostomi; Euteleostomi; Actinopterygii; Actinopteri; Neopterygii; Teleostei; Osteoglossocephalai; Clupeocephala; Euteleosteomorpha; Neoteleostei; Eurypterygia; Ctenosquamata; Acanthomorphata; Euacanthomorphacea; Percomorphaceae; Pelagiaria; Scombriformes; Scombridae; Scombrinae; Thunnini; Thunnus; maccoyii'} 13001\n"
     ]
    },
    {
     "name": "stdout",
     "output_type": "stream",
     "text": [
      "Parsed taxnomic info entries 14000 {'taxid': '9595', 'taxonomic_superkingdom': 'Eukaryota', 'taxonomic_kingdom': 'Metazoa', 'taxonomic_phylum': 'Chordata', 'taxonomic_subphylum': 'Craniata', 'taxonomic_class': 'Mammalia', 'taxonomic_superorder': 'Euarchontoglires', 'taxonomic_order': 'Primates', 'taxonomic_suborder': 'Haplorrhini', 'taxonomic_infraorder': 'Simiiformes', 'taxonomic_parvorder': 'Catarrhini', 'taxonomic_superfamily': 'Hominoidea', 'taxonomic_family': 'Hominidae', 'taxonomic_subfamily': 'Homininae', 'taxonomic_genus': 'Gorilla', 'taxonomic_species': 'Gorilla gorilla', 'taxonomic_subspecies': 'Gorilla gorilla gorilla', 'top_taxonomy_name': 'Gorilla gorilla gorilla', 'full_taxonomy': 'Eukaryota; Opisthokonta; Metazoa; Eumetazoa; Bilateria; Deuterostomia; Chordata; Craniata; Vertebrata; Gnathostomata; Teleostomi; Euteleostomi; Sarcopterygii; Dipnotetrapodomorpha; Tetrapoda; Amniota; Mammalia; Theria; Eutheria; Boreoeutheria; Euarchontoglires; Primates; Haplorrhini; Simiiformes; Catarrhini; Hominoidea; Hominidae; Homininae; Gorilla; gorilla; gorilla'} 14001\n",
      "Parsed taxnomic info entries 15000 {'taxid': '1131577', 'taxonomic_superkingdom': 'Eukaryota', 'taxonomic_kingdom': 'Fungi', 'taxonomic_subkingdom': 'Dikarya', 'taxonomic_phylum': 'Ascomycota', 'taxonomic_subphylum': 'Pezizomycotina', 'taxonomic_class': 'Eurotiomycetes', 'taxonomic_subclass': 'Eurotiomycetidae', 'taxonomic_order': 'Eurotiales', 'taxonomic_family': 'Aspergillaceae', 'taxonomic_genus': 'Penicillium', 'taxonomic_species': 'Penicillium aurantiacobrunneum', 'top_taxonomy_name': 'Penicillium aurantiacobrunneum', 'full_taxonomy': 'Eukaryota; Opisthokonta; Fungi; Dikarya; Ascomycota; saccharomyceta; Pezizomycotina; leotiomyceta; Eurotiomycetes; Eurotiomycetidae; Eurotiales; Aspergillaceae; Penicillium; aurantiacobrunneum'} 15001\n",
      "Parsed taxnomic info entries 16000 {'taxid': '258468', 'taxonomic_superkingdom': 'Eukaryota', 'taxonomic_kingdom': 'Fungi', 'taxonomic_subkingdom': 'Dikarya', 'taxonomic_phylum': 'Basidiomycota', 'taxonomic_subphylum': 'Agaricomycotina', 'taxonomic_class': 'Tremellomycetes', 'taxonomic_order': 'Tremellales', 'taxonomic_family': 'Bulleribasidiaceae', 'taxonomic_genus': 'Derxomyces', 'taxonomic_species': 'Derxomyces cylindricus', 'top_taxonomy_name': 'Derxomyces cylindricus', 'full_taxonomy': 'Eukaryota; Opisthokonta; Fungi; Dikarya; Basidiomycota; Agaricomycotina; Tremellomycetes; Tremellales; Bulleribasidiaceae; Derxomyces; cylindricus'} 16001\n",
      "Parsed taxnomic info entries 17000 {'taxid': '706493', 'taxonomic_superkingdom': 'Eukaryota', 'taxonomic_kingdom': 'Fungi', 'taxonomic_subkingdom': 'Dikarya', 'taxonomic_phylum': 'Ascomycota', 'taxonomic_subphylum': 'Pezizomycotina', 'taxonomic_class': 'Sordariomycetes', 'taxonomic_subclass': 'Hypocreomycetidae', 'taxonomic_order': 'Hypocreales', 'taxonomic_genus': 'Acremonium', 'taxonomic_species': 'Acremonium dichromosporum', 'top_taxonomy_name': 'Acremonium dichromosporum', 'full_taxonomy': 'Eukaryota; Opisthokonta; Fungi; Dikarya; Ascomycota; saccharomyceta; Pezizomycotina; leotiomyceta; sordariomyceta; Sordariomycetes; Hypocreomycetidae; Hypocreales; incertae sedis; Acremonium; dichromosporum'} 17001\n",
      "Parsed taxnomic info entries 18000 {'taxid': '102232', 'taxonomic_superkingdom': 'Bacteria', 'taxonomic_phylum': 'Cyanobacteria', 'taxonomic_subclass': 'Oscillatoriophycideae', 'taxonomic_order': 'Chroococcales', 'taxonomic_family': 'Chroococcaceae', 'taxonomic_genus': 'Gloeocapsa', 'taxonomic_species': 'Gloeocapsa sp. PCC 73106', 'top_taxonomy_name': 'Gloeocapsa sp. PCC 73106', 'full_taxonomy': 'Bacteria; Terrabacteria group; Cyanobacteria/Melainabacteria group; Cyanobacteria; Oscillatoriophycideae; Chroococcales; Chroococcaceae; Gloeocapsa; sp. PCC 73106'} 18001\n",
      "Parsed taxnomic info entries 19000 {'taxid': '1089454', 'taxonomic_superkingdom': 'Bacteria', 'taxonomic_phylum': 'Actinobacteria', 'taxonomic_class': 'Actinobacteria', 'taxonomic_order': 'Corynebacteriales', 'taxonomic_family': 'Gordoniaceae', 'taxonomic_genus': 'Gordonia', 'taxonomic_species': 'Gordonia terrae', 'top_taxonomy_name': 'Gordonia terrae NBRC 100016', 'full_taxonomy': 'Bacteria; Terrabacteria group; Actinobacteria; ; Corynebacteriales; Gordoniaceae; Gordonia; terrae; NBRC 100016'} 19001\n",
      "Parsed taxnomic info entries 20000 {'taxid': '1122130', 'taxonomic_superkingdom': 'Bacteria', 'taxonomic_phylum': 'Actinobacteria', 'taxonomic_class': 'Actinobacteria', 'taxonomic_order': 'Micrococcales', 'taxonomic_family': 'Jonesiaceae', 'taxonomic_genus': 'Jonesia', 'taxonomic_species': 'Jonesia quinghaiensis', 'top_taxonomy_name': 'Jonesia quinghaiensis DSM 15701', 'full_taxonomy': 'Bacteria; Terrabacteria group; Actinobacteria; ; Micrococcales; Jonesiaceae; Jonesia; quinghaiensis; DSM 15701'} 20001\n",
      "Parsed taxnomic info entries 21000 {'taxid': '1145131', 'taxonomic_superkingdom': 'Bacteria', 'taxonomic_phylum': 'Proteobacteria', 'taxonomic_class': 'Betaproteobacteria', 'taxonomic_order': 'Neisseriales', 'taxonomic_family': 'Neisseriaceae', 'taxonomic_genus': 'Neisseria', 'taxonomic_species': 'Neisseria meningitidis', 'top_taxonomy_name': 'Neisseria meningitidis 70082', 'full_taxonomy': 'Bacteria; Proteobacteria; Betaproteobacteria; Neisseriales; Neisseriaceae; Neisseria; meningitidis; 70082'} 21001\n",
      "Parsed taxnomic info entries 22000 {'taxid': '1158676', 'taxonomic_superkingdom': 'Bacteria', 'taxonomic_phylum': 'Firmicutes', 'taxonomic_class': 'Bacilli', 'taxonomic_order': 'Lactobacillales', 'taxonomic_family': 'Enterococcaceae', 'taxonomic_genus': 'Enterococcus', 'taxonomic_species': 'Enterococcus faecalis', 'top_taxonomy_name': 'Enterococcus faecalis ATCC 27959', 'full_taxonomy': 'Bacteria; Terrabacteria group; Firmicutes; Bacilli; Lactobacillales; Enterococcaceae; Enterococcus; faecalis; ATCC 27959'} 22001\n",
      "Parsed taxnomic info entries 23000 {'taxid': '1185707', 'taxonomic_superkingdom': 'Bacteria', 'taxonomic_phylum': 'Proteobacteria', 'taxonomic_class': 'Gammaproteobacteria', 'taxonomic_order': 'Xanthomonadales', 'taxonomic_family': 'Xanthomonadaceae', 'taxonomic_genus': 'Xanthomonas', 'taxonomic_species': 'Xanthomonas phaseoli', 'top_taxonomy_name': 'Xanthomonas axonopodis pv. manihotis str. UG23', 'full_taxonomy': 'Bacteria; Proteobacteria; Gammaproteobacteria; Xanthomonadales; Xanthomonadaceae; Xanthomonas; phaseoli; pv. manihotis; Xanthomonas axonopodis pv. manihotis str. UG23'} 23001\n",
      "Parsed taxnomic info entries 24000 {'taxid': '1223572', 'taxonomic_superkingdom': 'Bacteria', 'taxonomic_phylum': 'Proteobacteria', 'taxonomic_class': 'Gammaproteobacteria', 'taxonomic_order': 'Enterobacterales', 'taxonomic_family': 'Pectobacteriaceae', 'taxonomic_genus': 'Dickeya', 'taxonomic_species': 'Dickeya dadantii', 'top_taxonomy_name': 'Dickeya dadantii NCPPB 898', 'full_taxonomy': 'Bacteria; Proteobacteria; Gammaproteobacteria; Enterobacterales; Pectobacteriaceae; Dickeya; dadantii; NCPPB 898'} 24001\n",
      "Parsed taxnomic info entries 25000 {'taxid': '1262828', 'taxonomic_superkingdom': 'Bacteria', 'taxonomic_phylum': 'Firmicutes', 'taxonomic_class': 'Clostridia', 'taxonomic_order': 'Clostridiales', 'taxonomic_family': 'Clostridiaceae', 'taxonomic_genus': 'Clostridium', 'taxonomic_species': 'Clostridium sp. CAG:62', 'top_taxonomy_name': 'Clostridium sp. CAG:62', 'full_taxonomy': 'Bacteria; Terrabacteria group; Firmicutes; Clostridia; les; Clostridiaceae; Clostridium; environmental samples; Clostridium sp. CAG:62'} 25001\n",
      "Parsed taxnomic info entries 26000 {'taxid': '1282665', 'taxonomic_superkingdom': 'Bacteria', 'taxonomic_phylum': 'Firmicutes', 'taxonomic_class': 'Bacilli', 'taxonomic_order': 'Lactobacillales', 'taxonomic_family': 'Streptococcaceae', 'taxonomic_genus': 'Streptococcus', 'taxonomic_species': 'Streptococcus oralis', 'taxonomic_subspecies': 'Streptococcus oralis subsp. tigurinus', 'top_taxonomy_name': 'Streptococcus oralis subsp. tigurinus 1366', 'full_taxonomy': 'Bacteria; Terrabacteria group; Firmicutes; Bacilli; Lactobacillales; Streptococcaceae; Streptococcus; oralis; subsp. tigurinus; 1366'} 26001\n",
      "Parsed taxnomic info entries 27000 {'taxid': '1310833', 'taxonomic_superkingdom': 'Bacteria', 'taxonomic_phylum': 'Proteobacteria', 'taxonomic_class': 'Gammaproteobacteria', 'taxonomic_order': 'Pseudomonadales', 'taxonomic_family': 'Moraxellaceae', 'taxonomic_genus': 'Acinetobacter', 'taxonomic_species group': 'Acinetobacter calcoaceticus/baumannii complex', 'taxonomic_species': 'Acinetobacter sp. 796380-1375', 'top_taxonomy_name': 'Acinetobacter sp. 796380-1375', 'full_taxonomy': 'Bacteria; Proteobacteria; Gammaproteobacteria; Pseudomonadales; Moraxellaceae; Acinetobacter; calcoaceticus/baumannii complex; Acinetobacter sp. 796380-1375'} 27001\n"
     ]
    },
    {
     "name": "stdout",
     "output_type": "stream",
     "text": [
      "Parsed taxnomic info entries 28000 {'taxid': '1339273', 'taxonomic_superkingdom': 'Bacteria', 'taxonomic_phylum': 'Bacteroidetes', 'taxonomic_class': 'Bacteroidia', 'taxonomic_order': 'Bacteroidales', 'taxonomic_family': 'Bacteroidaceae', 'taxonomic_genus': 'Bacteroides', 'taxonomic_species': 'Bacteroides fragilis', 'top_taxonomy_name': 'Bacteroides fragilis str. B1 (UDC16-1)', 'full_taxonomy': 'Bacteria; FCB group; Bacteroidetes/Chlorobi group; Bacteroidetes; Bacteroidia; Bacteroidales; Bacteroidaceae; Bacteroides; fragilis; str. B1 (UDC16-1)'} 28001\n",
      "Parsed taxnomic info entries 29000 {'taxid': '1388080', 'taxonomic_superkingdom': 'Bacteria', 'taxonomic_phylum': 'Firmicutes', 'taxonomic_class': 'Bacilli', 'taxonomic_order': 'Bacillales', 'taxonomic_family': 'Staphylococcaceae', 'taxonomic_genus': 'Staphylococcus', 'taxonomic_species': 'Staphylococcus aureus', 'top_taxonomy_name': 'Staphylococcus aureus M0131', 'full_taxonomy': 'Bacteria; Terrabacteria group; Firmicutes; Bacilli; Bacillales; Staphylococcaceae; Staphylococcus; aureus; M0131'} 29001\n",
      "Parsed taxnomic info entries 30000 {'taxid': '1394616', 'taxonomic_superkingdom': 'Bacteria', 'taxonomic_phylum': 'Proteobacteria', 'taxonomic_class': 'Gammaproteobacteria', 'taxonomic_order': 'Vibrionales', 'taxonomic_family': 'Vibrionaceae', 'taxonomic_genus': 'Vibrio', 'taxonomic_species group': 'Vibrio harveyi group', 'taxonomic_species': 'Vibrio parahaemolyticus', 'top_taxonomy_name': 'Vibrio parahaemolyticus S073', 'full_taxonomy': 'Bacteria; Proteobacteria; Gammaproteobacteria; Vibrionales; Vibrionaceae; Vibrio; harveyi group; Vibrio parahaemolyticus; S073'} 30001\n",
      "Parsed taxnomic info entries 31000 {'taxid': '1403887', 'taxonomic_superkingdom': 'Bacteria', 'taxonomic_phylum': 'Firmicutes', 'taxonomic_class': 'Bacilli', 'taxonomic_order': 'Bacillales', 'taxonomic_family': 'Staphylococcaceae', 'taxonomic_genus': 'Staphylococcus', 'taxonomic_species': 'Staphylococcus aureus', 'top_taxonomy_name': 'Staphylococcus aureus M1504', 'full_taxonomy': 'Bacteria; Terrabacteria group; Firmicutes; Bacilli; Bacillales; Staphylococcaceae; Staphylococcus; aureus; M1504'} 31001\n",
      "Parsed taxnomic info entries 32000 {'taxid': '1410886', 'taxonomic_superkingdom': 'Bacteria', 'taxonomic_phylum': 'Firmicutes', 'taxonomic_class': 'Bacilli', 'taxonomic_order': 'Bacillales', 'taxonomic_family': 'Staphylococcaceae', 'taxonomic_genus': 'Staphylococcus', 'taxonomic_species': 'Staphylococcus aureus', 'top_taxonomy_name': 'Staphylococcus aureus H23829', 'full_taxonomy': 'Bacteria; Terrabacteria group; Firmicutes; Bacilli; Bacillales; Staphylococcaceae; Staphylococcus; aureus; H23829'} 32001\n",
      "Parsed taxnomic info entries 33000 {'taxid': '1417161', 'taxonomic_superkingdom': 'Bacteria', 'taxonomic_phylum': 'Firmicutes', 'taxonomic_class': 'Bacilli', 'taxonomic_order': 'Bacillales', 'taxonomic_family': 'Staphylococcaceae', 'taxonomic_genus': 'Staphylococcus', 'taxonomic_species': 'Staphylococcus aureus', 'top_taxonomy_name': 'Staphylococcus aureus H49831', 'full_taxonomy': 'Bacteria; Terrabacteria group; Firmicutes; Bacilli; Bacillales; Staphylococcaceae; Staphylococcus; aureus; H49831'} 33001\n",
      "Parsed taxnomic info entries 34000 {'taxid': '1422544', 'taxonomic_superkingdom': 'Bacteria', 'taxonomic_phylum': 'Firmicutes', 'taxonomic_class': 'Bacilli', 'taxonomic_order': 'Bacillales', 'taxonomic_family': 'Staphylococcaceae', 'taxonomic_genus': 'Staphylococcus', 'taxonomic_species': 'Staphylococcus aureus', 'top_taxonomy_name': 'Staphylococcus aureus VET0270R', 'full_taxonomy': 'Bacteria; Terrabacteria group; Firmicutes; Bacilli; Bacillales; Staphylococcaceae; Staphylococcus; aureus; VET0270R'} 34001\n",
      "Parsed taxnomic info entries 35000 {'taxid': '1438736', 'taxonomic_superkingdom': 'Bacteria', 'taxonomic_phylum': 'Proteobacteria', 'taxonomic_class': 'Gammaproteobacteria', 'taxonomic_order': 'Enterobacterales', 'taxonomic_family': 'Enterobacteriaceae', 'taxonomic_genus': 'Klebsiella', 'taxonomic_species': 'Klebsiella pneumoniae', 'top_taxonomy_name': 'Klebsiella pneumoniae CHS 30', 'full_taxonomy': 'Bacteria; Proteobacteria; Gammaproteobacteria; Enterobacterales; Enterobacteriaceae; Klebsiella; pneumoniae; CHS 30'} 35001\n",
      "Parsed taxnomic info entries 36000 {'taxid': '1447503', 'taxonomic_superkingdom': 'Bacteria', 'taxonomic_phylum': 'Actinobacteria', 'taxonomic_class': 'Actinobacteria', 'taxonomic_order': 'Corynebacteriales', 'taxonomic_family': 'Mycobacteriaceae', 'taxonomic_genus': 'Mycobacterium', 'taxonomic_species group': 'Mycobacterium tuberculosis complex', 'taxonomic_species': 'Mycobacterium tuberculosis', 'top_taxonomy_name': 'Mycobacterium tuberculosis MD15774', 'full_taxonomy': 'Bacteria; Terrabacteria group; Actinobacteria; ; Corynebacteriales; Mycobacteriaceae; Mycobacterium; tuberculosis complex; Mycobacterium tuberculosis; MD15774'} 36001\n",
      "Parsed taxnomic info entries 37000 {'taxid': '1471523', 'taxonomic_superkingdom': 'Bacteria', 'taxonomic_phylum': 'Cyanobacteria', 'taxonomic_order': 'Synechococcales', 'taxonomic_family': 'Prochloraceae', 'taxonomic_genus': 'Prochlorococcus', 'taxonomic_species': 'Prochlorococcus sp. scB245a_520M11', 'top_taxonomy_name': 'Prochlorococcus sp. scB245a_520M11', 'full_taxonomy': 'Bacteria; Terrabacteria group; Cyanobacteria/Melainabacteria group; Cyanobacteria; Synechococcales; Prochloraceae; Prochlorococcus; sp. scB245a_520M11'} 37001\n",
      "Parsed taxnomic info entries 38000 {'taxid': '334542', 'taxonomic_superkingdom': 'Bacteria', 'taxonomic_phylum': 'Actinobacteria', 'taxonomic_class': 'Actinobacteria', 'taxonomic_order': 'Corynebacteriales', 'taxonomic_family': 'Nocardiaceae', 'taxonomic_genus': 'Rhodococcus', 'taxonomic_species': 'Rhodococcus qingshengii', 'top_taxonomy_name': 'Rhodococcus qingshengii', 'full_taxonomy': 'Bacteria; Terrabacteria group; Actinobacteria; ; Corynebacteriales; Nocardiaceae; Rhodococcus; qingshengii'} 38001\n",
      "Parsed taxnomic info entries 39000 {'taxid': '558270', 'taxonomic_superkingdom': 'Bacteria', 'taxonomic_phylum': 'Proteobacteria', 'taxonomic_class': 'Gammaproteobacteria', 'taxonomic_order': 'Enterobacterales', 'taxonomic_family': 'Pectobacteriaceae', 'taxonomic_genus': 'Pectobacterium', 'taxonomic_species': 'Pectobacterium carotovorum', 'taxonomic_subspecies': 'Pectobacterium carotovorum subsp. carotovorum', 'top_taxonomy_name': 'Pectobacterium carotovorum subsp. carotovorum WPP14', 'full_taxonomy': 'Bacteria; Proteobacteria; Gammaproteobacteria; Enterobacterales; Pectobacteriaceae; Pectobacterium; carotovorum; subsp. carotovorum; WPP14'} 39001\n",
      "Parsed taxnomic info entries 40000 {'taxid': '754078', 'taxonomic_superkingdom': 'Bacteria', 'taxonomic_phylum': 'Proteobacteria', 'taxonomic_class': 'Gammaproteobacteria', 'taxonomic_order': 'Enterobacterales', 'taxonomic_family': 'Enterobacteriaceae', 'taxonomic_genus': 'Escherichia', 'taxonomic_species': 'Escherichia coli', 'top_taxonomy_name': 'Escherichia coli G58-1', 'full_taxonomy': 'Bacteria; Proteobacteria; Gammaproteobacteria; Enterobacterales; Enterobacteriaceae; Escherichia; coli; G58-1'} 40001\n",
      "Parsed taxnomic info entries 41000 {'taxid': '887298', 'taxonomic_superkingdom': 'Bacteria', 'taxonomic_phylum': 'Proteobacteria', 'taxonomic_subphylum': 'delta/epsilon subdivisions', 'taxonomic_class': 'Epsilonproteobacteria', 'taxonomic_order': 'Campylobacterales', 'taxonomic_family': 'Campylobacteraceae', 'taxonomic_genus': 'Campylobacter', 'taxonomic_species': 'Campylobacter coli', 'top_taxonomy_name': 'Campylobacter coli 1961', 'full_taxonomy': 'Bacteria; Proteobacteria; delta/epsilon subdivisions; Epsilonproteobacteria; Campylobacterales; Campylobacteraceae; Campylobacter; coli; 1961'} 41001\n",
      "Parsed taxnomic info entries 42000 {'taxid': '991996', 'taxonomic_superkingdom': 'Bacteria', 'taxonomic_phylum': 'Proteobacteria', 'taxonomic_class': 'Gammaproteobacteria', 'taxonomic_order': 'Vibrionales', 'taxonomic_family': 'Vibrionaceae', 'taxonomic_genus': 'Vibrio', 'taxonomic_species': 'Vibrio cholerae', 'top_taxonomy_name': 'Vibrio cholerae CP1050(23)', 'full_taxonomy': 'Bacteria; Proteobacteria; Gammaproteobacteria; Vibrionales; Vibrionaceae; Vibrio; cholerae; CP1050(23)'} 42001\n"
     ]
    }
   ],
   "source": [
    "df_summary_taxid = summary_taxid(dfalltaxid)"
   ]
  },
  {
   "cell_type": "code",
   "execution_count": 280,
   "metadata": {},
   "outputs": [
    {
     "data": {
      "text/html": [
       "<div>\n",
       "<style scoped>\n",
       "    .dataframe tbody tr th:only-of-type {\n",
       "        vertical-align: middle;\n",
       "    }\n",
       "\n",
       "    .dataframe tbody tr th {\n",
       "        vertical-align: top;\n",
       "    }\n",
       "\n",
       "    .dataframe thead th {\n",
       "        text-align: right;\n",
       "    }\n",
       "</style>\n",
       "<table border=\"1\" class=\"dataframe\">\n",
       "  <thead>\n",
       "    <tr style=\"text-align: right;\">\n",
       "      <th></th>\n",
       "      <th>full_taxonomy</th>\n",
       "      <th>taxid</th>\n",
       "      <th>taxonomic_class</th>\n",
       "      <th>taxonomic_cohort</th>\n",
       "      <th>taxonomic_family</th>\n",
       "      <th>taxonomic_forma</th>\n",
       "      <th>taxonomic_genus</th>\n",
       "      <th>taxonomic_infraclass</th>\n",
       "      <th>taxonomic_infraorder</th>\n",
       "      <th>taxonomic_kingdom</th>\n",
       "      <th>...</th>\n",
       "      <th>taxonomic_subspecies</th>\n",
       "      <th>taxonomic_subtribe</th>\n",
       "      <th>taxonomic_superclass</th>\n",
       "      <th>taxonomic_superfamily</th>\n",
       "      <th>taxonomic_superkingdom</th>\n",
       "      <th>taxonomic_superorder</th>\n",
       "      <th>taxonomic_superphylum</th>\n",
       "      <th>taxonomic_tribe</th>\n",
       "      <th>taxonomic_varietas</th>\n",
       "      <th>top_taxonomy_name</th>\n",
       "    </tr>\n",
       "  </thead>\n",
       "  <tbody>\n",
       "    <tr>\n",
       "      <th>0</th>\n",
       "      <td>Eukaryota; Opisthokonta; Metazoa; Eumetazoa; B...</td>\n",
       "      <td>10090</td>\n",
       "      <td>Mammalia</td>\n",
       "      <td>NaN</td>\n",
       "      <td>Muridae</td>\n",
       "      <td>NaN</td>\n",
       "      <td>Mus</td>\n",
       "      <td>NaN</td>\n",
       "      <td>NaN</td>\n",
       "      <td>Metazoa</td>\n",
       "      <td>...</td>\n",
       "      <td>NaN</td>\n",
       "      <td>NaN</td>\n",
       "      <td>NaN</td>\n",
       "      <td>NaN</td>\n",
       "      <td>Eukaryota</td>\n",
       "      <td>Euarchontoglires</td>\n",
       "      <td>NaN</td>\n",
       "      <td>NaN</td>\n",
       "      <td>NaN</td>\n",
       "      <td>Mus musculus</td>\n",
       "    </tr>\n",
       "    <tr>\n",
       "      <th>1</th>\n",
       "      <td>Eukaryota; Opisthokonta; Metazoa; Eumetazoa; B...</td>\n",
       "      <td>10116</td>\n",
       "      <td>Mammalia</td>\n",
       "      <td>NaN</td>\n",
       "      <td>Muridae</td>\n",
       "      <td>NaN</td>\n",
       "      <td>Rattus</td>\n",
       "      <td>NaN</td>\n",
       "      <td>NaN</td>\n",
       "      <td>Metazoa</td>\n",
       "      <td>...</td>\n",
       "      <td>NaN</td>\n",
       "      <td>NaN</td>\n",
       "      <td>NaN</td>\n",
       "      <td>NaN</td>\n",
       "      <td>Eukaryota</td>\n",
       "      <td>Euarchontoglires</td>\n",
       "      <td>NaN</td>\n",
       "      <td>NaN</td>\n",
       "      <td>NaN</td>\n",
       "      <td>Rattus norvegicus</td>\n",
       "    </tr>\n",
       "    <tr>\n",
       "      <th>2</th>\n",
       "      <td>Viruses; dsDNA viruses, no RNA stage; Adenovir...</td>\n",
       "      <td>10512</td>\n",
       "      <td>NaN</td>\n",
       "      <td>NaN</td>\n",
       "      <td>Adenoviridae</td>\n",
       "      <td>NaN</td>\n",
       "      <td>Mastadenovirus</td>\n",
       "      <td>NaN</td>\n",
       "      <td>NaN</td>\n",
       "      <td>NaN</td>\n",
       "      <td>...</td>\n",
       "      <td>NaN</td>\n",
       "      <td>NaN</td>\n",
       "      <td>NaN</td>\n",
       "      <td>NaN</td>\n",
       "      <td>Viruses</td>\n",
       "      <td>NaN</td>\n",
       "      <td>NaN</td>\n",
       "      <td>NaN</td>\n",
       "      <td>NaN</td>\n",
       "      <td>Canine adenovirus 1</td>\n",
       "    </tr>\n",
       "    <tr>\n",
       "      <th>3</th>\n",
       "      <td>Viruses; dsDNA viruses, no RNA stage; Adenovir...</td>\n",
       "      <td>10514</td>\n",
       "      <td>NaN</td>\n",
       "      <td>NaN</td>\n",
       "      <td>Adenoviridae</td>\n",
       "      <td>NaN</td>\n",
       "      <td>Mastadenovirus</td>\n",
       "      <td>NaN</td>\n",
       "      <td>NaN</td>\n",
       "      <td>NaN</td>\n",
       "      <td>...</td>\n",
       "      <td>NaN</td>\n",
       "      <td>NaN</td>\n",
       "      <td>NaN</td>\n",
       "      <td>NaN</td>\n",
       "      <td>Viruses</td>\n",
       "      <td>NaN</td>\n",
       "      <td>NaN</td>\n",
       "      <td>NaN</td>\n",
       "      <td>NaN</td>\n",
       "      <td>Canine adenovirus 2</td>\n",
       "    </tr>\n",
       "    <tr>\n",
       "      <th>4</th>\n",
       "      <td>Viruses; dsDNA viruses, no RNA stage; Adenovir...</td>\n",
       "      <td>10515</td>\n",
       "      <td>NaN</td>\n",
       "      <td>NaN</td>\n",
       "      <td>Adenoviridae</td>\n",
       "      <td>NaN</td>\n",
       "      <td>Mastadenovirus</td>\n",
       "      <td>NaN</td>\n",
       "      <td>NaN</td>\n",
       "      <td>NaN</td>\n",
       "      <td>...</td>\n",
       "      <td>NaN</td>\n",
       "      <td>NaN</td>\n",
       "      <td>NaN</td>\n",
       "      <td>NaN</td>\n",
       "      <td>Viruses</td>\n",
       "      <td>NaN</td>\n",
       "      <td>NaN</td>\n",
       "      <td>NaN</td>\n",
       "      <td>NaN</td>\n",
       "      <td>Human adenovirus 2</td>\n",
       "    </tr>\n",
       "  </tbody>\n",
       "</table>\n",
       "<p>5 rows × 32 columns</p>\n",
       "</div>"
      ],
      "text/plain": [
       "                                       full_taxonomy  taxid taxonomic_class  \\\n",
       "0  Eukaryota; Opisthokonta; Metazoa; Eumetazoa; B...  10090        Mammalia   \n",
       "1  Eukaryota; Opisthokonta; Metazoa; Eumetazoa; B...  10116        Mammalia   \n",
       "2  Viruses; dsDNA viruses, no RNA stage; Adenovir...  10512             NaN   \n",
       "3  Viruses; dsDNA viruses, no RNA stage; Adenovir...  10514             NaN   \n",
       "4  Viruses; dsDNA viruses, no RNA stage; Adenovir...  10515             NaN   \n",
       "\n",
       "  taxonomic_cohort taxonomic_family taxonomic_forma taxonomic_genus  \\\n",
       "0              NaN          Muridae             NaN             Mus   \n",
       "1              NaN          Muridae             NaN          Rattus   \n",
       "2              NaN     Adenoviridae             NaN  Mastadenovirus   \n",
       "3              NaN     Adenoviridae             NaN  Mastadenovirus   \n",
       "4              NaN     Adenoviridae             NaN  Mastadenovirus   \n",
       "\n",
       "  taxonomic_infraclass taxonomic_infraorder taxonomic_kingdom  \\\n",
       "0                  NaN                  NaN           Metazoa   \n",
       "1                  NaN                  NaN           Metazoa   \n",
       "2                  NaN                  NaN               NaN   \n",
       "3                  NaN                  NaN               NaN   \n",
       "4                  NaN                  NaN               NaN   \n",
       "\n",
       "          ...          taxonomic_subspecies taxonomic_subtribe  \\\n",
       "0         ...                           NaN                NaN   \n",
       "1         ...                           NaN                NaN   \n",
       "2         ...                           NaN                NaN   \n",
       "3         ...                           NaN                NaN   \n",
       "4         ...                           NaN                NaN   \n",
       "\n",
       "  taxonomic_superclass taxonomic_superfamily taxonomic_superkingdom  \\\n",
       "0                  NaN                   NaN              Eukaryota   \n",
       "1                  NaN                   NaN              Eukaryota   \n",
       "2                  NaN                   NaN                Viruses   \n",
       "3                  NaN                   NaN                Viruses   \n",
       "4                  NaN                   NaN                Viruses   \n",
       "\n",
       "  taxonomic_superorder taxonomic_superphylum taxonomic_tribe  \\\n",
       "0     Euarchontoglires                   NaN             NaN   \n",
       "1     Euarchontoglires                   NaN             NaN   \n",
       "2                  NaN                   NaN             NaN   \n",
       "3                  NaN                   NaN             NaN   \n",
       "4                  NaN                   NaN             NaN   \n",
       "\n",
       "  taxonomic_varietas    top_taxonomy_name  \n",
       "0                NaN         Mus musculus  \n",
       "1                NaN    Rattus norvegicus  \n",
       "2                NaN  Canine adenovirus 1  \n",
       "3                NaN  Canine adenovirus 2  \n",
       "4                NaN   Human adenovirus 2  \n",
       "\n",
       "[5 rows x 32 columns]"
      ]
     },
     "execution_count": 280,
     "metadata": {},
     "output_type": "execute_result"
    }
   ],
   "source": [
    "df_summary_taxid.head()"
   ]
  },
  {
   "cell_type": "code",
   "execution_count": 281,
   "metadata": {},
   "outputs": [
    {
     "data": {
      "text/plain": [
       "(42364, 32)"
      ]
     },
     "execution_count": 281,
     "metadata": {},
     "output_type": "execute_result"
    }
   ],
   "source": [
    "df_summary_taxid.shape"
   ]
  },
  {
   "cell_type": "markdown",
   "metadata": {},
   "source": [
    "### Save NCBI RefSeq Taxonomy Summary Table"
   ]
  },
  {
   "cell_type": "code",
   "execution_count": 282,
   "metadata": {},
   "outputs": [],
   "source": [
    "df_summary_taxid.to_csv('../refseq_masher/data/ncbi_refseq_taxonomy_summary.csv', index=None)"
   ]
  }
 ],
 "metadata": {
  "kernelspec": {
   "display_name": "Python 3",
   "language": "python",
   "name": "python3"
  },
  "language_info": {
   "codemirror_mode": {
    "name": "ipython",
    "version": 3
   },
   "file_extension": ".py",
   "mimetype": "text/x-python",
   "name": "python",
   "nbconvert_exporter": "python",
   "pygments_lexer": "ipython3",
   "version": "3.6.2"
  }
 },
 "nbformat": 4,
 "nbformat_minor": 2
}
